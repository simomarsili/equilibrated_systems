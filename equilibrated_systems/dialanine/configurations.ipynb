{
 "cells": [
  {
   "cell_type": "code",
   "execution_count": null,
   "id": "tested-lambda",
   "metadata": {},
   "outputs": [],
   "source": [
    "%load_ext autoreload\n",
    "%autoreload 2"
   ]
  },
  {
   "cell_type": "code",
   "execution_count": null,
   "id": "corrected-probe",
   "metadata": {},
   "outputs": [],
   "source": [
    "from mmlite.plot import show_mdtraj\n",
    "from mmlite.utils import multistate_reporter_metadata\n",
    "import mdtraj\n",
    "import mmlite.systems\n",
    "import openmmtools as mmtools\n",
    "import nglview as nv"
   ]
  },
  {
   "cell_type": "code",
   "execution_count": null,
   "id": "sealed-louis",
   "metadata": {},
   "outputs": [],
   "source": [
    "fp = 'frames/trj.0.pdb'"
   ]
  },
  {
   "cell_type": "code",
   "execution_count": null,
   "id": "compressed-distribution",
   "metadata": {},
   "outputs": [],
   "source": [
    "from mmlite.systems import HostGuestExplicit, AlanineDipeptideImplicit, AlanineDipeptideExplicit\n",
    "test = AlanineDipeptideExplicit()"
   ]
  },
  {
   "cell_type": "code",
   "execution_count": null,
   "id": "palestinian-violence",
   "metadata": {},
   "outputs": [],
   "source": [
    "reference_system, topology = multistate_reporter_metadata('frames/trj.nc', 'reference_state.system topography.topology'.split())"
   ]
  },
  {
   "cell_type": "code",
   "execution_count": null,
   "id": "tested-pricing",
   "metadata": {},
   "outputs": [],
   "source": [
    "trj = mdtraj.load(fp)\n",
    "view = nv.show_mdtraj(trj)\n",
    "view.clear_representations()\n",
    "view.add_representation('line', selection='water', color='blue', opacity=0.1)\n",
    "view.add_representation('ball+stick', selection=range(22))\n",
    "view.camera = 'orthographic'\n",
    "view.center(zoom=True)\n",
    "view"
   ]
  },
  {
   "cell_type": "code",
   "execution_count": null,
   "id": "vanilla-laser",
   "metadata": {},
   "outputs": [],
   "source": [
    "len(trj)"
   ]
  },
  {
   "cell_type": "code",
   "execution_count": null,
   "id": "radio-rates",
   "metadata": {},
   "outputs": [],
   "source": [
    "phi = mdtraj.compute_phi(trj)[1]\n",
    "psi = mdtraj.compute_psi(trj)[1]"
   ]
  },
  {
   "cell_type": "code",
   "execution_count": null,
   "id": "complex-loading",
   "metadata": {},
   "outputs": [],
   "source": [
    "import matplotlib.pyplot as plt\n",
    "%matplotlib inline\n",
    "plt.plot(phi, psi, 'o')"
   ]
  },
  {
   "cell_type": "code",
   "execution_count": null,
   "id": "compatible-poison",
   "metadata": {},
   "outputs": [],
   "source": []
  }
 ],
 "metadata": {
  "kernelspec": {
   "display_name": "neat",
   "language": "python",
   "name": "neat"
  },
  "language_info": {
   "codemirror_mode": {
    "name": "ipython",
    "version": 3
   },
   "file_extension": ".py",
   "mimetype": "text/x-python",
   "name": "python",
   "nbconvert_exporter": "python",
   "pygments_lexer": "ipython3",
   "version": "3.7.9"
  }
 },
 "nbformat": 4,
 "nbformat_minor": 5
}
