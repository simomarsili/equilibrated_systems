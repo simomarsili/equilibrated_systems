{
 "cells": [
  {
   "cell_type": "code",
   "execution_count": 37,
   "id": "tested-lambda",
   "metadata": {},
   "outputs": [
    {
     "name": "stdout",
     "output_type": "stream",
     "text": [
      "The autoreload extension is already loaded. To reload it, use:\n",
      "  %reload_ext autoreload\n"
     ]
    }
   ],
   "source": [
    "%load_ext autoreload\n",
    "%autoreload 2"
   ]
  },
  {
   "cell_type": "code",
   "execution_count": 38,
   "id": "corrected-probe",
   "metadata": {},
   "outputs": [],
   "source": [
    "from mmlite.plot import show_mdtraj\n",
    "from mmlite.utils import multistate_reporter_metadata\n",
    "import mdtraj\n",
    "import mmlite.systems\n",
    "import openmmtools as mmtools\n",
    "import nglview as nv"
   ]
  },
  {
   "cell_type": "code",
   "execution_count": 39,
   "id": "sealed-louis",
   "metadata": {},
   "outputs": [],
   "source": [
    "fp = 'frames/trj.0.pdb'"
   ]
  },
  {
   "cell_type": "code",
   "execution_count": 40,
   "id": "compressed-distribution",
   "metadata": {},
   "outputs": [],
   "source": [
    "from mmlite.systems import HostGuestExplicit, AlanineDipeptideImplicit, AlanineDipeptideExplicit\n",
    "test = AlanineDipeptideExplicit()"
   ]
  },
  {
   "cell_type": "code",
   "execution_count": 41,
   "id": "palestinian-violence",
   "metadata": {},
   "outputs": [
    {
     "name": "stderr",
     "output_type": "stream",
     "text": [
      "Warning: The openmmtools.multistate API is experimental and may change in future releases\n"
     ]
    }
   ],
   "source": [
    "reference_system, topology = multistate_reporter_metadata('frames/trj.nc', 'reference_state.system topography.topology'.split())"
   ]
  },
  {
   "cell_type": "code",
   "execution_count": 42,
   "id": "tested-pricing",
   "metadata": {},
   "outputs": [
    {
     "data": {
      "application/vnd.jupyter.widget-view+json": {
       "model_id": "79465d2382b64c09b0b11d635a2d64c3",
       "version_major": 2,
       "version_minor": 0
      },
      "text/plain": [
       "NGLWidget(max_frame=193)"
      ]
     },
     "metadata": {},
     "output_type": "display_data"
    }
   ],
   "source": [
    "trj = mdtraj.load(fp)\n",
    "view = nv.show_mdtraj(trj)\n",
    "view.clear_representations()\n",
    "view.add_representation('line', selection='water', color='blue', opacity=0.1)\n",
    "view.add_representation('ball+stick', selection=range(22))\n",
    "view.camera = 'orthographic'\n",
    "view.center(zoom=True)\n",
    "view"
   ]
  },
  {
   "cell_type": "code",
   "execution_count": 43,
   "id": "vanilla-laser",
   "metadata": {},
   "outputs": [
    {
     "data": {
      "text/plain": [
       "194"
      ]
     },
     "execution_count": 43,
     "metadata": {},
     "output_type": "execute_result"
    }
   ],
   "source": [
    "len(trj)"
   ]
  },
  {
   "cell_type": "code",
   "execution_count": 44,
   "id": "radio-rates",
   "metadata": {},
   "outputs": [],
   "source": [
    "phi = mdtraj.compute_phi(trj)[1]\n",
    "psi = mdtraj.compute_psi(trj)[1]"
   ]
  },
  {
   "cell_type": "code",
   "execution_count": 45,
   "id": "complex-loading",
   "metadata": {},
   "outputs": [
    {
     "data": {
      "text/plain": [
       "[<matplotlib.lines.Line2D at 0x7f9d35666950>]"
      ]
     },
     "execution_count": 45,
     "metadata": {},
     "output_type": "execute_result"
    },
    {
     "data": {
      "image/png": "[encoded data removed]",
      "text/plain": [
       "<Figure size 432x288 with 1 Axes>"
      ]
     },
     "metadata": {
      "needs_background": "light"
     },
     "output_type": "display_data"
    }
   ],
   "source": [
    "import matplotlib.pyplot as plt\n",
    "%matplotlib inline\n",
    "plt.plot(phi, psi, 'o')"
   ]
  },
  {
   "cell_type": "code",
   "execution_count": null,
   "id": "compatible-poison",
   "metadata": {},
   "outputs": [],
   "source": []
  }
 ],
 "metadata": {
  "kernelspec": {
   "display_name": "neat",
   "language": "python",
   "name": "neat"
  },
  "language_info": {
   "codemirror_mode": {
    "name": "ipython",
    "version": 3
   },
   "file_extension": ".py",
   "mimetype": "text/x-python",
   "name": "python",
   "nbconvert_exporter": "python",
   "pygments_lexer": "ipython3",
   "version": "3.7.9"
  }
 },
 "nbformat": 4,
 "nbformat_minor": 5
}
